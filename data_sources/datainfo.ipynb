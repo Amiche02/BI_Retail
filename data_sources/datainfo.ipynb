{
 "cells": [
  {
   "cell_type": "code",
   "execution_count": null,
   "metadata": {},
   "outputs": [],
   "source": [
    "import pandas as pd\n",
    "import numpy as np"
   ]
  },
  {
   "cell_type": "code",
   "execution_count": null,
   "metadata": {},
   "outputs": [],
   "source": [
    "supply_chain = pd.read_csv(\"supply_chain_updated.csv\")\n",
    "transactions = pd.read_csv(\"transactions.csv\")"
   ]
  },
  {
   "cell_type": "code",
   "execution_count": null,
   "metadata": {},
   "outputs": [],
   "source": [
    "supply_chain.shape , transactions.shape"
   ]
  },
  {
   "cell_type": "code",
   "execution_count": null,
   "metadata": {},
   "outputs": [],
   "source": [
    "supply_chain.head()"
   ]
  },
  {
   "cell_type": "code",
   "execution_count": null,
   "metadata": {},
   "outputs": [],
   "source": [
    "transactions.head()"
   ]
  },
  {
   "cell_type": "code",
   "execution_count": null,
   "metadata": {},
   "outputs": [],
   "source": [
    "supply_chain.columns , transactions.columns"
   ]
  },
  {
   "cell_type": "code",
   "execution_count": null,
   "metadata": {},
   "outputs": [],
   "source": [
    "supply_chain.dtypes"
   ]
  },
  {
   "cell_type": "code",
   "execution_count": null,
   "metadata": {},
   "outputs": [],
   "source": [
    "transactions.dtypes"
   ]
  },
  {
   "cell_type": "code",
   "execution_count": null,
   "metadata": {},
   "outputs": [],
   "source": [
    "transactions.info()"
   ]
  },
  {
   "cell_type": "code",
   "execution_count": null,
   "metadata": {},
   "outputs": [],
   "source": [
    "supply_chain.info()"
   ]
  },
  {
   "cell_type": "code",
   "execution_count": null,
   "metadata": {},
   "outputs": [],
   "source": [
    "np.sum(supply_chain.isnull().sum()), np.sum(transactions.isnull().sum())"
   ]
  },
  {
   "cell_type": "code",
   "execution_count": null,
   "metadata": {},
   "outputs": [],
   "source": [
    "supply_chain.duplicated().sum(), transactions.duplicated().sum()"
   ]
  },
  {
   "cell_type": "code",
   "execution_count": null,
   "metadata": {},
   "outputs": [],
   "source": [
    "supply_chain.describe()"
   ]
  },
  {
   "cell_type": "code",
   "execution_count": null,
   "metadata": {},
   "outputs": [],
   "source": [
    "transactions.describe()"
   ]
  },
  {
   "cell_type": "code",
   "execution_count": null,
   "metadata": {},
   "outputs": [],
   "source": [
    "# Create DIM_PRODUIT\n",
    "dim_produit = supply_chain[['SKU', 'Category', 'ProductName', 'UnitPurchasePrice']].drop_duplicates()\n",
    "\n",
    "# Rename columns to match schema\n",
    "dim_produit = dim_produit.rename(columns={\n",
    "    'UnitPurchasePrice': 'Price'\n",
    "})\n",
    "\n",
    "# Add Availability (StockLevel)\n",
    "stock_levels = supply_chain.groupby('SKU')['StockLevel'].sum().reset_index()\n",
    "dim_produit = pd.merge(dim_produit, stock_levels, on='SKU', how='left')\n",
    "\n",
    "# Rename for consistency\n",
    "dim_produit = dim_produit.rename(columns={\n",
    "    'StockLevel': 'Availability'\n",
    "})\n",
    "\n",
    "dim_produit.head()"
   ]
  },
  {
   "cell_type": "code",
   "execution_count": null,
   "metadata": {},
   "outputs": [],
   "source": [
    "dim_supplier = supply_chain[['SupplierName', 'SupplierCity', 'SupplierCountry']].drop_duplicates()\n",
    "\n",
    "dim_supplier['SupplierID'] = [f\"SUP-{i+1:05d}\" for i in range(len(dim_supplier))]\n",
    "\n",
    "dim_supplier = dim_supplier[['SupplierID', 'SupplierName', 'SupplierCity', 'SupplierCountry']]\n",
    "\n",
    "dim_supplier.head()"
   ]
  },
  {
   "cell_type": "code",
   "execution_count": null,
   "metadata": {},
   "outputs": [],
   "source": [
    "dim_transport_mode = supply_chain[['DeliveryCompany']].drop_duplicates()\n",
    "\n",
    "dim_transport_mode['TransportModeID'] = [f\"TRANS-{i+1:05d}\" for i in range(len(dim_transport_mode))]\n",
    "dim_transport_mode['TransportationModes'] = dim_transport_mode['DeliveryCompany']\n",
    "dim_transport_mode['Routes'] = \"Route Placeholder\"\n",
    "\n",
    "dim_transport_mode = dim_transport_mode[['TransportModeID', 'TransportationModes', 'Routes']]\n",
    "\n",
    "dim_transport_mode.head()"
   ]
  },
  {
   "cell_type": "code",
   "execution_count": null,
   "metadata": {},
   "outputs": [],
   "source": [
    "import numpy as np\n",
    "import pandas as pd\n",
    "\n",
    "# Define countries and cities mapping\n",
    "countries = {\n",
    "    \"France\": [\"Paris\", \"Lyon\", \"Marseille\", \"Lille\", \"Nice\", \"Toulouse\"],\n",
    "    \"US\": [\"New York\", \"Los Angeles\", \"Chicago\", \"Houston\", \"Phoenix\", \"San Francisco\"],\n",
    "    \"England\": [\"London\", \"Manchester\", \"Birmingham\", \"Leeds\", \"Liverpool\", \"Bristol\"]\n",
    "}\n",
    "\n",
    "# Define postal code ranges per country\n",
    "postal_code_ranges = {\n",
    "    \"France\": (75000, 75999), \n",
    "    \"US\": (10000, 99999),     \n",
    "    \"England\": (1000, 9999)   \n",
    "}\n",
    "\n",
    "# Function to generate postal codes based on the country\n",
    "def generate_postal_code(country, city):\n",
    "    if country in postal_code_ranges:\n",
    "        # Get the range for the country\n",
    "        start, end = postal_code_ranges[country]\n",
    "        # Generate a postal code from this range\n",
    "        return np.random.randint(start, end + 1)\n",
    "    else:\n",
    "        # Fallback for unknown countries\n",
    "        return 99999\n",
    "\n",
    "# Step 1: Extract unique clients and their store locations\n",
    "unique_clients = transactions[['ClientID', 'ClientName', 'StoreCity', 'StoreCountry']].drop_duplicates()\n",
    "\n",
    "# Step 2: Assign client locations based on store city and country\n",
    "unique_clients['City'] = unique_clients['StoreCity']\n",
    "unique_clients['Country'] = unique_clients['StoreCountry']\n",
    "\n",
    "# Step 3: Generate logical gender proportions\n",
    "np.random.seed(42)  # Set seed for reproducibility\n",
    "gender_choices = np.random.choice(\n",
    "    ['Female', 'Male'], \n",
    "    size=len(unique_clients), \n",
    "    p=[0.7, 0.3]  # 70% women, 30% men\n",
    ")\n",
    "unique_clients['Gender'] = gender_choices\n",
    "\n",
    "# Step 4: Generate logical age distribution\n",
    "# Flatten the ranges into a list of age options\n",
    "age_options = (\n",
    "    list(range(16, 41)) * int(0.6 * len(unique_clients)) +  # 60% young\n",
    "    list(range(41, 61)) * int(0.3 * len(unique_clients)) +  # 30% middle-aged\n",
    "    list(range(61, 91)) * int(0.1 * len(unique_clients))    # 10% elderly\n",
    ")\n",
    "\n",
    "# Shuffle the age options for randomness\n",
    "np.random.shuffle(age_options)\n",
    "\n",
    "# Assign ages to unique clients\n",
    "unique_clients['Age'] = age_options[:len(unique_clients)]\n",
    "\n",
    "# Step 5: Generate logical addresses\n",
    "unique_clients['Address'] = unique_clients['City'] + \" Main Street\"\n",
    "\n",
    "# Step 6: Ensure consistency for duplicate clients\n",
    "# If a client appears multiple times, ensure their data is consistent\n",
    "final_dim_client = unique_clients.groupby('ClientID').first().reset_index()\n",
    "\n",
    "# Rename columns to match `dim_client` structure\n",
    "final_dim_client = final_dim_client.rename(columns={\n",
    "    'ClientName': 'FullName',\n",
    "    'City': 'ClientCity',\n",
    "    'Country': 'ClientCountry'\n",
    "})\n",
    "\n",
    "# Apply the postal code generation logic\n",
    "final_dim_client['PostalCode'] = final_dim_client.apply(\n",
    "    lambda row: generate_postal_code(row['ClientCountry'], row['ClientCity']),\n",
    "    axis=1\n",
    ")\n",
    "\n",
    "# Select and arrange columns\n",
    "final_dim_client = final_dim_client[['ClientID', 'FullName', 'Gender', 'Age', 'Address', 'ClientCity', 'PostalCode', 'ClientCountry']]\n",
    "\n",
    "# Display the final dimension table\n",
    "final_dim_client.head()\n"
   ]
  },
  {
   "cell_type": "code",
   "execution_count": null,
   "metadata": {},
   "outputs": [],
   "source": [
    "# Create DIM_TEMPS\n",
    "dim_temps = transactions[['TransactionDate']].drop_duplicates()\n",
    "\n",
    "# Extract year, month, and day\n",
    "dim_temps['TransactionDate'] = pd.to_datetime(dim_temps['TransactionDate'])\n",
    "dim_temps['Jour'] = dim_temps['TransactionDate'].dt.day\n",
    "dim_temps['Mois'] = dim_temps['TransactionDate'].dt.month\n",
    "dim_temps['Annee'] = dim_temps['TransactionDate'].dt.year\n",
    "\n",
    "# Display the result\n",
    "dim_temps.head()"
   ]
  },
  {
   "cell_type": "code",
   "execution_count": null,
   "metadata": {},
   "outputs": [],
   "source": [
    "# Create DIM_PAIEMENT\n",
    "dim_paiement = transactions[['PaymentMethod']].drop_duplicates()\n",
    "\n",
    "# Add unique PaiementID\n",
    "dim_paiement['PaiementID'] = [f\"PAY-{i+1:05d}\" for i in range(len(dim_paiement))]\n",
    "\n",
    "# Rearrange columns\n",
    "dim_paiement = dim_paiement[['PaiementID', 'PaymentMethod']]\n",
    "\n",
    "# Rename for consistency\n",
    "dim_paiement = dim_paiement.rename(columns={'PaymentMethod': 'MethodePaiement'})\n",
    "\n",
    "# Display the result\n",
    "dim_paiement.head()"
   ]
  },
  {
   "cell_type": "code",
   "execution_count": null,
   "metadata": {},
   "outputs": [],
   "source": [
    "# Create FACT_SUPPLY_CHAIN\n",
    "fact_supply_chain = supply_chain[['SKU', 'StockLevel', 'DeliveryQuantity', 'TransportCost']]\n",
    "\n",
    "# Add measures and derived fields\n",
    "fact_supply_chain['RevenueGenerated'] = supply_chain['PurchasePrice']\n",
    "fact_supply_chain['OrderQuantities'] = supply_chain['DeliveryQuantity']\n",
    "fact_supply_chain['ShippingCosts'] = supply_chain['TransportCost']\n",
    "fact_supply_chain['ManufacturingCosts'] = supply_chain['UnitPurchasePrice'] * supply_chain['DeliveryQuantity']\n",
    "fact_supply_chain['DefectRates'] = np.random.uniform(0, 0.05, len(fact_supply_chain))  # Placeholder for defect rates\n",
    "\n",
    "# Add unique FactID\n",
    "fact_supply_chain['FactID'] = [f\"FACT-SC-{i+1:05d}\" for i in range(len(fact_supply_chain))]\n",
    "\n",
    "# Rearrange columns\n",
    "fact_supply_chain = fact_supply_chain[['FactID', 'SKU', 'StockLevel', 'OrderQuantities', 'ShippingCosts', 'RevenueGenerated', 'ManufacturingCosts', 'DefectRates']]\n",
    "\n",
    "# Display the result\n",
    "fact_supply_chain.head()"
   ]
  },
  {
   "cell_type": "code",
   "execution_count": null,
   "metadata": {},
   "outputs": [],
   "source": [
    "# Create FACT_TRANSACTIONS\n",
    "fact_transactions = transactions[['TransactionID', 'ClientID', 'TransactionDate', 'SKU', 'QuantityPurchased', 'TotalPurchasePrice']]\n",
    "\n",
    "# Add derived measures\n",
    "fact_transactions['PrixTotal'] = transactions['TotalSellingPrice']\n",
    "\n",
    "# Add unique FactID\n",
    "fact_transactions['FactID'] = [f\"FACT-TR-{i+1:05d}\" for i in range(len(fact_transactions))]\n",
    "\n",
    "# Rename columns\n",
    "fact_transactions = fact_transactions.rename(columns={'QuantityPurchased': 'Quantite', 'TotalPurchasePrice': 'PrixTotal'})\n",
    "\n",
    "# Display the result\n",
    "fact_transactions.head()"
   ]
  },
  {
   "cell_type": "code",
   "execution_count": null,
   "metadata": {},
   "outputs": [],
   "source": [
    "# Display shapes of all tables\n",
    "print(\"DIM_PRODUIT:\", dim_produit.shape)\n",
    "print(\"DIM_SUPPLIER:\", dim_supplier.shape)\n",
    "print(\"DIM_TRANSPORT_MODE:\", dim_transport_mode.shape)\n",
    "print(\"DIM_CLIENT:\", dim_client.shape)\n",
    "print(\"DIM_TEMPS:\", dim_temps.shape)\n",
    "print(\"DIM_PAIEMENT:\", dim_paiement.shape)\n",
    "print(\"FACT_SUPPLY_CHAIN:\", fact_supply_chain.shape)\n",
    "print(\"FACT_TRANSACTIONS:\", fact_transactions.shape)"
   ]
  },
  {
   "cell_type": "code",
   "execution_count": null,
   "metadata": {},
   "outputs": [],
   "source": [
    "# Create DIM_SHOPPING_MALL\n",
    "dim_shopping_mall = transactions[['StoreName', 'StoreCity', 'StoreCountry']].drop_duplicates()\n",
    "dim_shopping_mall['MallID'] = [f\"MALL-{i+1:05d}\" for i in range(len(dim_shopping_mall))]\n",
    "dim_shopping_mall['Address'] = dim_shopping_mall['StoreCity'] + \" Mall Street\"\n",
    "\n",
    "# Generate PostalCode\n",
    "dim_shopping_mall['PostalCode'] = dim_shopping_mall.apply(\n",
    "    lambda row: generate_postal_code(row['StoreCountry'], row['StoreCity']),\n",
    "    axis=1\n",
    ")\n",
    "\n",
    "# Rearrange columns\n",
    "dim_shopping_mall = dim_shopping_mall[['MallID', 'StoreName', 'Address', 'StoreCity', 'PostalCode', 'StoreCountry']]\n",
    "\n",
    "# Rename columns for consistency\n",
    "dim_shopping_mall = dim_shopping_mall.rename(columns={\n",
    "    'StoreName': 'Name',\n",
    "    'StoreCity': 'City',\n",
    "    'StoreCountry': 'Country'\n",
    "})\n",
    "\n",
    "dim_shopping_mall.head()"
   ]
  },
  {
   "cell_type": "code",
   "execution_count": null,
   "metadata": {},
   "outputs": [],
   "source": [
    "# Create DIM_TIME for delivery dates\n",
    "dim_time_delivery = supply_chain[['DeliveryDate']].drop_duplicates()\n",
    "dim_time_delivery['DeliveryDate'] = pd.to_datetime(dim_time_delivery['DeliveryDate'])\n",
    "dim_time_delivery['Jour'] = dim_time_delivery['DeliveryDate'].dt.day\n",
    "dim_time_delivery['Mois'] = dim_time_delivery['DeliveryDate'].dt.month\n",
    "dim_time_delivery['Annee'] = dim_time_delivery['DeliveryDate'].dt.year\n",
    "\n",
    "# Optionally, create a surrogate key\n",
    "dim_time_delivery['DateID'] = dim_time_delivery['DeliveryDate'].dt.strftime('%Y%m%d').astype(int)\n",
    "\n",
    "# Rearrange columns\n",
    "dim_time_delivery = dim_time_delivery[['DateID', 'DeliveryDate', 'Jour', 'Mois', 'Annee']]\n",
    "\n",
    "dim_time_delivery.head()"
   ]
  },
  {
   "cell_type": "code",
   "execution_count": null,
   "metadata": {},
   "outputs": [],
   "source": [
    "print(dim_shopping_mall.info())\n",
    "print(dim_shopping_mall.head())\n",
    "print(dim_shopping_mall['PostalCode'].value_counts())"
   ]
  }
 ],
 "metadata": {
  "kernelspec": {
   "display_name": "BI",
   "language": "python",
   "name": "python3"
  },
  "language_info": {
   "codemirror_mode": {
    "name": "ipython",
    "version": 3
   },
   "file_extension": ".py",
   "mimetype": "text/x-python",
   "name": "python",
   "nbconvert_exporter": "python",
   "pygments_lexer": "ipython3",
   "version": "3.11.10"
  }
 },
 "nbformat": 4,
 "nbformat_minor": 2
}
